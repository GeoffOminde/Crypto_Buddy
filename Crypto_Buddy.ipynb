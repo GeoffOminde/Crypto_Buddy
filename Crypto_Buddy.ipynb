{
  "nbformat": 4,
  "nbformat_minor": 0,
  "metadata": {
    "colab": {
      "provenance": []
    },
    "kernelspec": {
      "name": "python3",
      "display_name": "Python 3"
    },
    "language_info": {
      "name": "python"
    },
    "widgets": {
      "application/vnd.jupyter.widget-state+json": {
        "f0cb884ade7b44d1858f3ab8302386c8": {
          "model_module": "@jupyter-widgets/controls",
          "model_name": "TextModel",
          "model_module_version": "1.5.0",
          "state": {
            "_dom_classes": [],
            "_model_module": "@jupyter-widgets/controls",
            "_model_module_version": "1.5.0",
            "_model_name": "TextModel",
            "_view_count": null,
            "_view_module": "@jupyter-widgets/controls",
            "_view_module_version": "1.5.0",
            "_view_name": "TextView",
            "continuous_update": true,
            "description": "You:",
            "description_tooltip": null,
            "disabled": false,
            "layout": "IPY_MODEL_5deaebd6b8a044528132253aef90d4ec",
            "placeholder": "Ask me about crypto trends...",
            "style": "IPY_MODEL_755df607312f400886c397220b32e8cb",
            "value": ""
          }
        },
        "5deaebd6b8a044528132253aef90d4ec": {
          "model_module": "@jupyter-widgets/base",
          "model_name": "LayoutModel",
          "model_module_version": "1.2.0",
          "state": {
            "_model_module": "@jupyter-widgets/base",
            "_model_module_version": "1.2.0",
            "_model_name": "LayoutModel",
            "_view_count": null,
            "_view_module": "@jupyter-widgets/base",
            "_view_module_version": "1.2.0",
            "_view_name": "LayoutView",
            "align_content": null,
            "align_items": null,
            "align_self": null,
            "border": null,
            "bottom": null,
            "display": null,
            "flex": null,
            "flex_flow": null,
            "grid_area": null,
            "grid_auto_columns": null,
            "grid_auto_flow": null,
            "grid_auto_rows": null,
            "grid_column": null,
            "grid_gap": null,
            "grid_row": null,
            "grid_template_areas": null,
            "grid_template_columns": null,
            "grid_template_rows": null,
            "height": null,
            "justify_content": null,
            "justify_items": null,
            "left": null,
            "margin": null,
            "max_height": null,
            "max_width": null,
            "min_height": null,
            "min_width": null,
            "object_fit": null,
            "object_position": null,
            "order": null,
            "overflow": null,
            "overflow_x": null,
            "overflow_y": null,
            "padding": null,
            "right": null,
            "top": null,
            "visibility": null,
            "width": null
          }
        },
        "755df607312f400886c397220b32e8cb": {
          "model_module": "@jupyter-widgets/controls",
          "model_name": "DescriptionStyleModel",
          "model_module_version": "1.5.0",
          "state": {
            "_model_module": "@jupyter-widgets/controls",
            "_model_module_version": "1.5.0",
            "_model_name": "DescriptionStyleModel",
            "_view_count": null,
            "_view_module": "@jupyter-widgets/base",
            "_view_module_version": "1.2.0",
            "_view_name": "StyleView",
            "description_width": ""
          }
        },
        "74c9cc86d0494e219a2b8b44a092a48a": {
          "model_module": "@jupyter-widgets/output",
          "model_name": "OutputModel",
          "model_module_version": "1.0.0",
          "state": {
            "_dom_classes": [],
            "_model_module": "@jupyter-widgets/output",
            "_model_module_version": "1.0.0",
            "_model_name": "OutputModel",
            "_view_count": null,
            "_view_module": "@jupyter-widgets/output",
            "_view_module_version": "1.0.0",
            "_view_name": "OutputView",
            "layout": "IPY_MODEL_a9c4dcfedc6c41869aab44ff3a95e365",
            "msg_id": "",
            "outputs": [
              {
                "output_type": "stream",
                "name": "stdout",
                "text": [
                  "You: Which crypto is trending up?\n",
                  "CryptoBuddy: 🚀 Trending up right now: Bitcoin, Cardano \n",
                  "\n"
                ]
              },
              {
                "output_type": "stream",
                "name": "stdout",
                "text": [
                  "You: Which coin should I buy for long-term growth?\n",
                  "CryptoBuddy: 📈 For long-term growth, consider Cardano — strong sustainability + rising trend! \n",
                  "\n"
                ]
              },
              {
                "output_type": "stream",
                "name": "stdout",
                "text": [
                  "You: What’s the most sustainable coin?\n",
                  "CryptoBuddy: 🌱 Invest in Cardano! It’s eco-friendly and has long-term potential. \n",
                  "\n"
                ]
              }
            ]
          }
        },
        "a9c4dcfedc6c41869aab44ff3a95e365": {
          "model_module": "@jupyter-widgets/base",
          "model_name": "LayoutModel",
          "model_module_version": "1.2.0",
          "state": {
            "_model_module": "@jupyter-widgets/base",
            "_model_module_version": "1.2.0",
            "_model_name": "LayoutModel",
            "_view_count": null,
            "_view_module": "@jupyter-widgets/base",
            "_view_module_version": "1.2.0",
            "_view_name": "LayoutView",
            "align_content": null,
            "align_items": null,
            "align_self": null,
            "border": null,
            "bottom": null,
            "display": null,
            "flex": null,
            "flex_flow": null,
            "grid_area": null,
            "grid_auto_columns": null,
            "grid_auto_flow": null,
            "grid_auto_rows": null,
            "grid_column": null,
            "grid_gap": null,
            "grid_row": null,
            "grid_template_areas": null,
            "grid_template_columns": null,
            "grid_template_rows": null,
            "height": null,
            "justify_content": null,
            "justify_items": null,
            "left": null,
            "margin": null,
            "max_height": null,
            "max_width": null,
            "min_height": null,
            "min_width": null,
            "object_fit": null,
            "object_position": null,
            "order": null,
            "overflow": null,
            "overflow_x": null,
            "overflow_y": null,
            "padding": null,
            "right": null,
            "top": null,
            "visibility": null,
            "width": null
          }
        }
      }
    }
  },
  "cells": [
    {
      "cell_type": "code",
      "execution_count": 1,
      "metadata": {
        "colab": {
          "base_uri": "https://localhost:8080/"
        },
        "id": "s8o7TBI5pefK",
        "outputId": "9c0d742f-1a8e-4777-fabe-8b8f73cb173b"
      },
      "outputs": [
        {
          "output_type": "stream",
          "name": "stdout",
          "text": [
            "\u001b[?25l   \u001b[90m━━━━━━━━━━━━━━━━━━━━━━━━━━━━━━━━━━━━━━━━\u001b[0m \u001b[32m0.0/1.6 MB\u001b[0m \u001b[31m?\u001b[0m eta \u001b[36m-:--:--\u001b[0m\r\u001b[2K   \u001b[91m━━━━━━━━━━━━\u001b[0m\u001b[91m╸\u001b[0m\u001b[90m━━━━━━━━━━━━━━━━━━━━━━━━━━━\u001b[0m \u001b[32m0.5/1.6 MB\u001b[0m \u001b[31m21.3 MB/s\u001b[0m eta \u001b[36m0:00:01\u001b[0m\r\u001b[2K   \u001b[90m━━━━━━━━━━━━━━━━━━━━━━━━━━━━━━━━━━━━━━━━\u001b[0m \u001b[32m1.6/1.6 MB\u001b[0m \u001b[31m26.0 MB/s\u001b[0m eta \u001b[36m0:00:00\u001b[0m\n",
            "\u001b[?25h"
          ]
        }
      ],
      "source": [
        "# Install necessary libraries (works in Colab/Jupyter only)\n",
        "!pip install -q requests ipywidgets\n"
      ]
    },
    {
      "cell_type": "code",
      "source": [
        "# Define chatbot personality and local dataset\n",
        "\n",
        "print(\"🤖 Hi, I'm CryptoBuddy — your first AI-powered financial sidekick! 🌟\")\n",
        "print(\"Disclaimer: ⚠️ Crypto is risky—always do your own research before investing!\\n\")\n",
        "\n",
        "# Predefined crypto dataset\n",
        "crypto_db = {\n",
        "    \"Bitcoin\": {\n",
        "        \"price_trend\": \"rising\",\n",
        "        \"market_cap\": \"high\",\n",
        "        \"energy_use\": \"high\",\n",
        "        \"sustainability_score\": 3/10\n",
        "    },\n",
        "    \"Ethereum\": {\n",
        "        \"price_trend\": \"stable\",\n",
        "        \"market_cap\": \"high\",\n",
        "        \"energy_use\": \"medium\",\n",
        "        \"sustainability_score\": 6/10\n",
        "    },\n",
        "    \"Cardano\": {\n",
        "        \"price_trend\": \"rising\",\n",
        "        \"market_cap\": \"medium\",\n",
        "        \"energy_use\": \"low\",\n",
        "        \"sustainability_score\": 8/10\n",
        "    }\n",
        "}\n"
      ],
      "metadata": {
        "colab": {
          "base_uri": "https://localhost:8080/"
        },
        "id": "D-FgvbXlpgQl",
        "outputId": "f57fdcaf-b857-436a-f209-4777e2bd8f98"
      },
      "execution_count": 2,
      "outputs": [
        {
          "output_type": "stream",
          "name": "stdout",
          "text": [
            "🤖 Hi, I'm CryptoBuddy — your first AI-powered financial sidekick! 🌟\n",
            "Disclaimer: ⚠️ Crypto is risky—always do your own research before investing!\n",
            "\n"
          ]
        }
      ]
    },
    {
      "cell_type": "code",
      "source": [
        "# Chatbot function with simple rule-based logic\n",
        "def crypto_advisor(user_query):\n",
        "    user_query = user_query.lower()\n",
        "\n",
        "    # Rule 1: Sustainability\n",
        "    if \"sustainable\" in user_query:\n",
        "        recommend = max(crypto_db, key=lambda x: crypto_db[x][\"sustainability_score\"])\n",
        "        return f\"🌱 Invest in {recommend}! It’s eco-friendly and has long-term potential.\"\n",
        "\n",
        "    # Rule 2: Trending / Rising\n",
        "    if \"trending\" in user_query or \"rising\" in user_query:\n",
        "        trending = [coin for coin, data in crypto_db.items() if data[\"price_trend\"] == \"rising\"]\n",
        "        return f\"🚀 Trending up right now: {', '.join(trending)}\"\n",
        "\n",
        "    # Rule 3: Long-term growth\n",
        "    if \"long-term\" in user_query or \"growth\" in user_query:\n",
        "        growth = [coin for coin, data in crypto_db.items()\n",
        "                  if data[\"price_trend\"] == \"rising\" and data[\"sustainability_score\"] >= 0.7]\n",
        "        if growth:\n",
        "            return f\"📈 For long-term growth, consider {', '.join(growth)} — strong sustainability + rising trend!\"\n",
        "        else:\n",
        "            return \"🤔 None look perfect for long-term growth right now.\"\n",
        "\n",
        "    # Rule 4: Default response\n",
        "    return \"❓ I didn’t get that. Try asking about sustainability, trends, or growth.\"\n"
      ],
      "metadata": {
        "id": "kTe1kF49pqL2"
      },
      "execution_count": 3,
      "outputs": []
    },
    {
      "cell_type": "code",
      "source": [
        "# Example interactions\n",
        "print(\"You: Which crypto is trending up?\")\n",
        "print(\"CryptoBuddy:\", crypto_advisor(\"Which crypto is trending up?\"))\n",
        "\n",
        "print(\"\\nYou: What's the most sustainable coin?\")\n",
        "print(\"CryptoBuddy:\", crypto_advisor(\"What's the most sustainable coin?\"))\n",
        "\n",
        "print(\"\\nYou: Which crypto should I buy for long-term growth?\")\n",
        "print(\"CryptoBuddy:\", crypto_advisor(\"Which crypto should I buy for long-term growth?\"))\n"
      ],
      "metadata": {
        "colab": {
          "base_uri": "https://localhost:8080/"
        },
        "id": "cOY6TEL_pwDo",
        "outputId": "a2832ca3-1b38-4ba5-e9d6-fc32973c29a2"
      },
      "execution_count": 4,
      "outputs": [
        {
          "output_type": "stream",
          "name": "stdout",
          "text": [
            "You: Which crypto is trending up?\n",
            "CryptoBuddy: 🚀 Trending up right now: Bitcoin, Cardano\n",
            "\n",
            "You: What's the most sustainable coin?\n",
            "CryptoBuddy: 🌱 Invest in Cardano! It’s eco-friendly and has long-term potential.\n",
            "\n",
            "You: Which crypto should I buy for long-term growth?\n",
            "CryptoBuddy: 📈 For long-term growth, consider Cardano — strong sustainability + rising trend!\n"
          ]
        }
      ]
    },
    {
      "cell_type": "code",
      "source": [
        "import requests\n",
        "\n",
        "def get_live_price(coin_id=\"bitcoin\"):\n",
        "    url = f\"https://api.coingecko.com/api/v3/simple/price\"\n",
        "    params = {\"ids\": coin_id, \"vs_currencies\": \"usd\"}\n",
        "    try:\n",
        "        response = requests.get(url, params=params)\n",
        "        data = response.json()\n",
        "        price = data[coin_id][\"usd\"]\n",
        "        return f\"💰 The current price of {coin_id.capitalize()} is ${price:,}\"\n",
        "    except Exception as e:\n",
        "        return f\"⚠️ Error fetching live price: {e}\"\n",
        "\n",
        "# Test live API\n",
        "print(get_live_price(\"bitcoin\"))\n",
        "print(get_live_price(\"ethereum\"))\n",
        "print(get_live_price(\"cardano\"))\n"
      ],
      "metadata": {
        "colab": {
          "base_uri": "https://localhost:8080/"
        },
        "id": "bW3j1LVCp2VR",
        "outputId": "83af3447-5e9f-458b-c00c-1f04fb4a684e"
      },
      "execution_count": 5,
      "outputs": [
        {
          "output_type": "stream",
          "name": "stdout",
          "text": [
            "💰 The current price of Bitcoin is $112,164\n",
            "💰 The current price of Ethereum is $4,179.3\n",
            "💰 The current price of Cardano is $0.813046\n"
          ]
        }
      ]
    },
    {
      "cell_type": "code",
      "source": [
        "import ipywidgets as widgets\n",
        "from IPython.display import display\n",
        "\n",
        "# Text input + button for interactive queries\n",
        "input_box = widgets.Text(\n",
        "    description=\"You:\",\n",
        "    placeholder=\"Ask me about crypto trends...\"\n",
        ")\n",
        "output_box = widgets.Output()\n",
        "\n",
        "def handle_query(sender):\n",
        "    with output_box:\n",
        "        print(\"You:\", input_box.value)\n",
        "        print(\"CryptoBuddy:\", crypto_advisor(input_box.value), \"\\n\")\n",
        "    input_box.value = \"\"  # clear after sending\n",
        "\n",
        "input_box.on_submit(handle_query)\n",
        "display(input_box, output_box)\n"
      ],
      "metadata": {
        "colab": {
          "base_uri": "https://localhost:8080/",
          "height": 205,
          "referenced_widgets": [
            "f0cb884ade7b44d1858f3ab8302386c8",
            "5deaebd6b8a044528132253aef90d4ec",
            "755df607312f400886c397220b32e8cb",
            "74c9cc86d0494e219a2b8b44a092a48a",
            "a9c4dcfedc6c41869aab44ff3a95e365"
          ]
        },
        "id": "fsTHmS_gp6-1",
        "outputId": "794161c0-cc56-475d-83cc-0fc7235f4624"
      },
      "execution_count": 6,
      "outputs": [
        {
          "output_type": "display_data",
          "data": {
            "text/plain": [
              "Text(value='', description='You:', placeholder='Ask me about crypto trends...')"
            ],
            "application/vnd.jupyter.widget-view+json": {
              "version_major": 2,
              "version_minor": 0,
              "model_id": "f0cb884ade7b44d1858f3ab8302386c8"
            }
          },
          "metadata": {}
        },
        {
          "output_type": "display_data",
          "data": {
            "text/plain": [
              "Output()"
            ],
            "application/vnd.jupyter.widget-view+json": {
              "version_major": 2,
              "version_minor": 0,
              "model_id": "74c9cc86d0494e219a2b8b44a092a48a"
            }
          },
          "metadata": {}
        }
      ]
    }
  ]
}